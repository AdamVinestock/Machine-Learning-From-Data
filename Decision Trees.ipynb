{
 "cells": [
  {
   "cell_type": "markdown",
   "metadata": {
    "nbgrader": {
     "grade": false,
     "grade_id": "cell-6bd0516e7cb654f5",
     "locked": true,
     "schema_version": 1,
     "solution": false
    }
   },
   "source": [
    "# Decision Trees\n",
    "\n",
    "\n",
    "## In this notebook I will perform the following:\n",
    "1. Practice OOP in python.\n",
    "2. Implement two impurity measures: Gini and Entropy.\n",
    "3. Construct a decision tree algorithm.\n",
    "4. Prune the tree to achieve better results.\n",
    "5. Visualize your results."
   ]
  },
  {
   "cell_type": "code",
   "execution_count": 1,
   "metadata": {},
   "outputs": [
    {
     "name": "stdout",
     "output_type": "stream",
     "text": [
      "1.20.1\n",
      "3.8.8\n"
     ]
    }
   ],
   "source": [
    "import numpy\n",
    "from platform import python_version\n",
    "print(numpy.version.version)\n",
    "print(python_version())"
   ]
  },
  {
   "cell_type": "code",
   "execution_count": 2,
   "metadata": {
    "nbgrader": {
     "grade": false,
     "grade_id": "cell-ed9fe7b1026e33cb",
     "locked": true,
     "schema_version": 1,
     "solution": false
    }
   },
   "outputs": [],
   "source": [
    "import numpy as np\n",
    "import pandas as pd\n",
    "import matplotlib.pyplot as plt\n",
    "%matplotlib inline\n",
    "plt.rcParams['figure.figsize'] = (10.0, 8.0)    # set default size of plots\n",
    "plt.rcParams['image.interpolation'] = 'nearest'\n",
    "plt.rcParams['image.cmap'] = 'gray'\n",
    "\n",
    "# Ignore warnings\n",
    "import warnings\n",
    "warnings.filterwarnings('ignore')"
   ]
  },
  {
   "cell_type": "markdown",
   "metadata": {
    "nbgrader": {
     "grade": false,
     "grade_id": "cell-c6ac605270c2b091",
     "locked": true,
     "schema_version": 1,
     "solution": false
    }
   },
   "source": [
    "## Warmup - OOP in python\n",
    "\n",
    "Our desicion tree will be implemented using a dedicated python class. Python classes are very similar to classes in Java.\n",
    "\n",
    "\n",
    "You can use the following [site](https://jeffknupp.com/blog/2014/06/18/improve-your-python-python-classes-and-object-oriented-programming/) to learn about classes in python."
   ]
  },
  {
   "cell_type": "code",
   "execution_count": 3,
   "metadata": {},
   "outputs": [],
   "source": [
    "class Node(object):\n",
    "    def __init__(self, data):\n",
    "        self.data = data\n",
    "        self.children = []\n",
    "\n",
    "    def add_child(self, node):\n",
    "        self.children.append(node)"
   ]
  },
  {
   "cell_type": "code",
   "execution_count": 4,
   "metadata": {},
   "outputs": [
    {
     "data": {
      "text/plain": [
       "[<__main__.Node at 0x2bdf32bb430>, <__main__.Node at 0x2bdf32bb790>]"
      ]
     },
     "execution_count": 4,
     "metadata": {},
     "output_type": "execute_result"
    }
   ],
   "source": [
    "n = Node(5)\n",
    "p = Node(6)\n",
    "q = Node(7)\n",
    "n.add_child(p)\n",
    "n.add_child(q)\n",
    "n.children"
   ]
  },
  {
   "cell_type": "markdown",
   "metadata": {
    "nbgrader": {
     "grade": false,
     "grade_id": "cell-2f1ceb251c649b62",
     "locked": true,
     "schema_version": 1,
     "solution": false
    }
   },
   "source": [
    "## Data preprocessing\n",
    "\n",
    "For the following exercise, I will use a dataset containing mushroom data `agaricus-lepiota.csv`. \n",
    "\n",
    "This data set includes descriptions of hypothetical samples corresponding to 23 species of gilled mushrooms in the Agaricus and Lepiota Family. Each species is identified as definitely edible, definitely poisonous, or of unknown edibility and not recommended. This latter class was combined with the poisonous\n",
    "one (=there are only two classes **edible** and **poisonous**). \n",
    "    \n",
    "The dataset contains 8124 observations with 22 features:\n",
    "1. cap-shape: bell=b,conical=c,convex=x,flat=f,knobbed=k,sunken=s\n",
    "2. cap-surface: fibrous=f,grooves=g,scaly=y,smooth=s\n",
    "3. cap-color: brown=n,buff=b,cinnamon=c,gray=g,green=r,pink=p,purple=u,red=e,white=w,yellow=y\n",
    "4. bruises: bruises=t,no=f\n",
    "5. odor: almond=a,anise=l,creosote=c,fishy=y,foul=f, musty=m,none=n,pungent=p,spicy=s\n",
    "6. gill-attachment: attached=a,descending=d,free=f,notched=n\n",
    "7. gill-spacing: close=c,crowded=w,distant=d\n",
    "8. gill-size: broad=b,narrow=n\n",
    "9. gill-color: black=k,brown=n,buff=b,chocolate=h,gray=g,green=r,orange=o,pink=p,purple=u,red=e,white=w,yellow=y\n",
    "10. stalk-shape: enlarging=e,tapering=t\n",
    "11. stalk-root: bulbous=b,club=c,cup=u,equal=e,rhizomorphs=z,rooted=r\n",
    "12. stalk-surface-above-ring: fibrous=f,scaly=y,silky=k,smooth=s\n",
    "13. stalk-surface-below-ring: fibrous=f,scaly=y,silky=k,smooth=s\n",
    "14. stalk-color-above-ring: brown=n,buff=b,cinnamon=c,gray=g,orange=o,pink=p,red=e,white=w,yellow=y\n",
    "15. stalk-color-below-ring: brown=n,buff=b,cinnamon=c,gray=g,orange=o,pink=p,red=e,white=w,yellow=y\n",
    "16. veil-type: partial=p,universal=u\n",
    "17. veil-color: brown=n,orange=o,white=w,yellow=y\n",
    "18. ring-number: none=n,one=o,two=t\n",
    "19. ring-type: cobwebby=c,evanescent=e,flaring=f,large=l,none=n,pendant=p,sheathing=s,zone=z\n",
    "20. spore-print-color: black=k,brown=n,buff=b,chocolate=h,green=r,orange=o,purple=u,white=w,yellow=y\n",
    "21. population: abundant=a,clustered=c,numerous=n,scattered=s,several=v,solitary=y\n",
    "22. habitat: grasses=g,leaves=l,meadows=m,paths=p,urban=u,waste=w,woods=d\n",
    "\n",
    "First, we will read and explore the data using pandas and the `.read_csv` method. Pandas is an open source library providing high-performance, easy-to-use data structures and data analysis tools for the Python programming language."
   ]
  },
  {
   "cell_type": "code",
   "execution_count": 5,
   "metadata": {
    "nbgrader": {
     "grade": false,
     "grade_id": "cell-d79cb4542926ad3f",
     "locked": true,
     "schema_version": 1,
     "solution": false
    }
   },
   "outputs": [],
   "source": [
    "# load dataset\n",
    "data = pd.read_csv('agaricus-lepiota.csv')"
   ]
  },
  {
   "cell_type": "code",
   "execution_count": 6,
   "metadata": {},
   "outputs": [
    {
     "data": {
      "text/html": [
       "<div>\n",
       "<style scoped>\n",
       "    .dataframe tbody tr th:only-of-type {\n",
       "        vertical-align: middle;\n",
       "    }\n",
       "\n",
       "    .dataframe tbody tr th {\n",
       "        vertical-align: top;\n",
       "    }\n",
       "\n",
       "    .dataframe thead th {\n",
       "        text-align: right;\n",
       "    }\n",
       "</style>\n",
       "<table border=\"1\" class=\"dataframe\">\n",
       "  <thead>\n",
       "    <tr style=\"text-align: right;\">\n",
       "      <th></th>\n",
       "      <th>cap-shape</th>\n",
       "      <th>cap-surface</th>\n",
       "      <th>cap-color</th>\n",
       "      <th>bruises</th>\n",
       "      <th>odor</th>\n",
       "      <th>gill-attachment</th>\n",
       "      <th>gill-spacing</th>\n",
       "      <th>gill-size</th>\n",
       "      <th>gill-color</th>\n",
       "      <th>stalk-shape</th>\n",
       "      <th>...</th>\n",
       "      <th>stalk-color-above-ring</th>\n",
       "      <th>stalk-color-below-ring</th>\n",
       "      <th>veil-type</th>\n",
       "      <th>veil-color</th>\n",
       "      <th>ring-number</th>\n",
       "      <th>ring-type</th>\n",
       "      <th>spore-print-color</th>\n",
       "      <th>population</th>\n",
       "      <th>habitat</th>\n",
       "      <th>class</th>\n",
       "    </tr>\n",
       "  </thead>\n",
       "  <tbody>\n",
       "    <tr>\n",
       "      <th>0</th>\n",
       "      <td>x</td>\n",
       "      <td>s</td>\n",
       "      <td>n</td>\n",
       "      <td>t</td>\n",
       "      <td>p</td>\n",
       "      <td>f</td>\n",
       "      <td>c</td>\n",
       "      <td>n</td>\n",
       "      <td>k</td>\n",
       "      <td>e</td>\n",
       "      <td>...</td>\n",
       "      <td>w</td>\n",
       "      <td>w</td>\n",
       "      <td>p</td>\n",
       "      <td>w</td>\n",
       "      <td>o</td>\n",
       "      <td>p</td>\n",
       "      <td>k</td>\n",
       "      <td>s</td>\n",
       "      <td>u</td>\n",
       "      <td>p</td>\n",
       "    </tr>\n",
       "    <tr>\n",
       "      <th>1</th>\n",
       "      <td>x</td>\n",
       "      <td>s</td>\n",
       "      <td>y</td>\n",
       "      <td>t</td>\n",
       "      <td>a</td>\n",
       "      <td>f</td>\n",
       "      <td>c</td>\n",
       "      <td>b</td>\n",
       "      <td>k</td>\n",
       "      <td>e</td>\n",
       "      <td>...</td>\n",
       "      <td>w</td>\n",
       "      <td>w</td>\n",
       "      <td>p</td>\n",
       "      <td>w</td>\n",
       "      <td>o</td>\n",
       "      <td>p</td>\n",
       "      <td>n</td>\n",
       "      <td>n</td>\n",
       "      <td>g</td>\n",
       "      <td>e</td>\n",
       "    </tr>\n",
       "    <tr>\n",
       "      <th>2</th>\n",
       "      <td>b</td>\n",
       "      <td>s</td>\n",
       "      <td>w</td>\n",
       "      <td>t</td>\n",
       "      <td>l</td>\n",
       "      <td>f</td>\n",
       "      <td>c</td>\n",
       "      <td>b</td>\n",
       "      <td>n</td>\n",
       "      <td>e</td>\n",
       "      <td>...</td>\n",
       "      <td>w</td>\n",
       "      <td>w</td>\n",
       "      <td>p</td>\n",
       "      <td>w</td>\n",
       "      <td>o</td>\n",
       "      <td>p</td>\n",
       "      <td>n</td>\n",
       "      <td>n</td>\n",
       "      <td>m</td>\n",
       "      <td>e</td>\n",
       "    </tr>\n",
       "    <tr>\n",
       "      <th>3</th>\n",
       "      <td>x</td>\n",
       "      <td>y</td>\n",
       "      <td>w</td>\n",
       "      <td>t</td>\n",
       "      <td>p</td>\n",
       "      <td>f</td>\n",
       "      <td>c</td>\n",
       "      <td>n</td>\n",
       "      <td>n</td>\n",
       "      <td>e</td>\n",
       "      <td>...</td>\n",
       "      <td>w</td>\n",
       "      <td>w</td>\n",
       "      <td>p</td>\n",
       "      <td>w</td>\n",
       "      <td>o</td>\n",
       "      <td>p</td>\n",
       "      <td>k</td>\n",
       "      <td>s</td>\n",
       "      <td>u</td>\n",
       "      <td>p</td>\n",
       "    </tr>\n",
       "    <tr>\n",
       "      <th>4</th>\n",
       "      <td>x</td>\n",
       "      <td>s</td>\n",
       "      <td>g</td>\n",
       "      <td>f</td>\n",
       "      <td>n</td>\n",
       "      <td>f</td>\n",
       "      <td>w</td>\n",
       "      <td>b</td>\n",
       "      <td>k</td>\n",
       "      <td>t</td>\n",
       "      <td>...</td>\n",
       "      <td>w</td>\n",
       "      <td>w</td>\n",
       "      <td>p</td>\n",
       "      <td>w</td>\n",
       "      <td>o</td>\n",
       "      <td>e</td>\n",
       "      <td>n</td>\n",
       "      <td>a</td>\n",
       "      <td>g</td>\n",
       "      <td>e</td>\n",
       "    </tr>\n",
       "  </tbody>\n",
       "</table>\n",
       "<p>5 rows × 22 columns</p>\n",
       "</div>"
      ],
      "text/plain": [
       "  cap-shape cap-surface cap-color bruises odor gill-attachment gill-spacing  \\\n",
       "0         x           s         n       t    p               f            c   \n",
       "1         x           s         y       t    a               f            c   \n",
       "2         b           s         w       t    l               f            c   \n",
       "3         x           y         w       t    p               f            c   \n",
       "4         x           s         g       f    n               f            w   \n",
       "\n",
       "  gill-size gill-color stalk-shape  ... stalk-color-above-ring  \\\n",
       "0         n          k           e  ...                      w   \n",
       "1         b          k           e  ...                      w   \n",
       "2         b          n           e  ...                      w   \n",
       "3         n          n           e  ...                      w   \n",
       "4         b          k           t  ...                      w   \n",
       "\n",
       "  stalk-color-below-ring veil-type veil-color ring-number ring-type  \\\n",
       "0                      w         p          w           o         p   \n",
       "1                      w         p          w           o         p   \n",
       "2                      w         p          w           o         p   \n",
       "3                      w         p          w           o         p   \n",
       "4                      w         p          w           o         e   \n",
       "\n",
       "  spore-print-color population habitat class  \n",
       "0                 k          s       u     p  \n",
       "1                 n          n       g     e  \n",
       "2                 n          n       m     e  \n",
       "3                 k          s       u     p  \n",
       "4                 n          a       g     e  \n",
       "\n",
       "[5 rows x 22 columns]"
      ]
     },
     "execution_count": 6,
     "metadata": {},
     "output_type": "execute_result"
    }
   ],
   "source": [
    "data.head(5)"
   ]
  },
  {
   "cell_type": "markdown",
   "metadata": {},
   "source": [
    "One of the advantages of the Decision Tree algorithm is that almost no preprocessing is required. However, finding missing values is always required."
   ]
  },
  {
   "cell_type": "code",
   "execution_count": 7,
   "metadata": {},
   "outputs": [
    {
     "name": "stdout",
     "output_type": "stream",
     "text": [
      "Number of missing values is : 0\n"
     ]
    }
   ],
   "source": [
    "#############################################################################\n",
    "#     Find columns with missing values and remove them from the data.       #\n",
    "\n",
    "num_null_values = data.isnull().sum().sum()\n",
    "data = data.dropna(axis=1, how='any')\n",
    "print(\"Number of missing values is : {}\".format(num_null_values))"
   ]
  },
  {
   "cell_type": "markdown",
   "metadata": {},
   "source": [
    "We will split the dataset to `Training` and `Testing` datasets."
   ]
  },
  {
   "cell_type": "code",
   "execution_count": 8,
   "metadata": {},
   "outputs": [
    {
     "name": "stdout",
     "output_type": "stream",
     "text": [
      "Training dataset shape:  (6093, 22)\n",
      "Testing dataset shape:  (2031, 22)\n"
     ]
    }
   ],
   "source": [
    "from sklearn.model_selection import train_test_split\n",
    "X, y = data.drop('class', axis=1), data['class']\n",
    "X = np.column_stack([X,y]) \n",
    "\n",
    "# split dataset using random_state to get the same split each time\n",
    "X_train, X_test = train_test_split(X, random_state=99)\n",
    "\n",
    "print(\"Training dataset shape: \", X_train.shape)\n",
    "print(\"Testing dataset shape: \", X_test.shape)"
   ]
  },
  {
   "cell_type": "markdown",
   "metadata": {
    "nbgrader": {
     "grade": false,
     "grade_id": "cell-fd7b0191f3f1e897",
     "locked": true,
     "schema_version": 1,
     "solution": false
    }
   },
   "source": [
    "## Impurity Measures\n",
    "\n",
    "Impurity is a measure of how often a randomly chosen element from the set would be incorrectly labeled if it was randomly labeled according to the distribution of labels in the subset. Implement the functions `calc_gini` and `calc_entropy`. You are encouraged to test your implementation."
   ]
  },
  {
   "cell_type": "code",
   "execution_count": 9,
   "metadata": {},
   "outputs": [],
   "source": [
    "def calc_gini(data):\n",
    "    \"\"\"\n",
    "    Calculate gini impurity measure of a dataset.\n",
    "    Input:\n",
    "    - data: any dataset where the last column holds the labels.\n",
    "    Returns the gini impurity.    \n",
    "    \"\"\"\n",
    "    gini = 0.0\n",
    "    n_edible = (data[:,-1] == \"e\").sum()     # Number of \"e\" class in the currunt data\n",
    "    n_poisonous = (data[:,-1] == \"p\").sum()  # Number of \"p\" class in the currunt data\n",
    "    n_lables = data.shape[0]\n",
    "    gini = 1-((n_edible/n_lables)**2+(n_poisonous/n_lables)**2)\n",
    "    return gini"
   ]
  },
  {
   "cell_type": "code",
   "execution_count": 10,
   "metadata": {},
   "outputs": [],
   "source": [
    "def calc_entropy(data):\n",
    "    \"\"\"\n",
    "    Calculate the entropy of a dataset.\n",
    "    Input:\n",
    "    - data: any dataset where the last column holds the labels.\n",
    "    Returns the entropy of the dataset.    \n",
    "    \"\"\"\n",
    "    entropy = 0.0\n",
    "    p_edible = (data[:,-1] == \"e\").sum()/data.shape[0]      # probability of \"e\" class in the currunt data\n",
    "    p_poisonous = (data[:,-1] == \"p\").sum()/data.shape[0]   # probability of \"e\" class in the currunt data\n",
    "    entropy += -(p_edible*np.log2(p_edible))-(p_poisonous*np.log2(p_poisonous))\n",
    "    if (p_edible==1 or p_poisonous==1):\n",
    "        return 0\n",
    "    else:\n",
    "        return entropy"
   ]
  },
  {
   "cell_type": "code",
   "execution_count": 11,
   "metadata": {
    "scrolled": true
   },
   "outputs": [
    {
     "name": "stdout",
     "output_type": "stream",
     "text": [
      "Gini : 0.4995636322379775, Entropy : 0.9993703627906085\n"
     ]
    }
   ],
   "source": [
    "##### Test #####\n",
    "print(\"Gini : {}, Entropy : {}\".format(calc_gini(X), calc_entropy(X)))"
   ]
  },
  {
   "cell_type": "markdown",
   "metadata": {},
   "source": [
    "## Goodness of Split\n",
    "\n",
    "Given a feature the Goodnees of Split measures the reduction in the impurity if we split the data according to the feature.\n",
    "$$\n",
    "\\Delta\\varphi(S, A) = \\varphi(S) - \\sum_{v\\in Values(A)} \\frac{|S_v|}{|S|}\\varphi(S_v)\n",
    "$$\n",
    "\n",
    "In our implementation the goodness_of_split function will return either the Goodness of Split or the Gain Ratio as learned in class. You'll control the return value with the `gain_ratio` parameter. If this parameter will set to False (the default value) it will return the regular Goodness of Split. If it will set to True it will return the Gain Ratio.\n",
    "$$\n",
    "GainRatio(S,A)=\\frac{InformationGain(S,A)}{SplitInformation(S,A)}\n",
    "$$\n",
    "Where:\n",
    "$$\n",
    "InformationGain(S,A)=Goodness\\ of\\ Split\\ calculated\\ with\\ Entropy\\ as\\ the\\ Impurity\\ function \\\\\n",
    "SplitInformation(S,A)=- \\sum_{a\\in A} \\frac{|S_a|}{|S|}\\log\\frac{|S_a|}{|S|}\n",
    "$$\n",
    "NOTE: you can add more parameters to the function and you can also add more returning variables (The given parameters and the given returning variable should not be touch). "
   ]
  },
  {
   "cell_type": "code",
   "execution_count": 12,
   "metadata": {},
   "outputs": [],
   "source": [
    "def goodness_of_split(data, feature, impurity_func, gain_ratio=False):\n",
    "    \"\"\"\n",
    "    Calculate the goodness of split of a dataset given a feature and impurity function.\n",
    "    Input:\n",
    "    - data: any dataset where the last column holds the labels.\n",
    "    - feature: the feature index.\n",
    "    - impurity func: a function that calculates the impurity.\n",
    "    - gain_ratio: goodness of split or gain ratio flag.\n",
    "    Returns the goodness of split (or the Gain Ration).  \n",
    "    \"\"\"\n",
    "    goodness = 0\n",
    "    impurity_before = impurity_func(data)   # impurity before splitting according to a given feature\n",
    "    impurity_after = 0\n",
    "    values = np.unique(data[:,feature])     # list of all unique values in feature\n",
    "    split_info = 0\n",
    "    S = data[:,feature].shape[0]            #Size of current data\n",
    "    for v in values:\n",
    "        S_v = data[(data[:,feature] == v)]  #subset group with common value\n",
    "        weight = len(S_v)/S    \n",
    "        impurity_after += (weight * impurity_func(S_v))\n",
    "        split_info += -(weight * np.log2(weight))\n",
    "    goodness = impurity_before-impurity_after\n",
    "    ratio = goodness/split_info\n",
    "    if (gain_ratio):\n",
    "        return ratio \n",
    "    else:\n",
    "        return goodness "
   ]
  },
  {
   "cell_type": "markdown",
   "metadata": {},
   "source": [
    "## Building a Decision Tree\n",
    "\n",
    "Use a Python class to construct the decision tree. Your class should support the following functionality:\n",
    "\n",
    "1. Initiating a node for a decision tree. You will need to use several class methods and class attributes and you are free to use them as you see fit. We recommend that every node will hold the feature and value used for the split and its children.\n",
    "2. Your code should support both Gini and Entropy as impurity measures. \n",
    "3. The provided data includes categorical data. In this exercise, when splitting a node create the number of children needed according to the attribute unique values.\n",
    "\n",
    "Complete the class `DecisionNode`. The structure of this class is entirely up to you. \n",
    "\n",
    "Complete the function `build_tree`. This function should get the training dataset and the impurity as inputs, initiate a root for the decision tree and construct the tree according to the procedure you learned in class. (30 points)"
   ]
  },
  {
   "cell_type": "code",
   "execution_count": 13,
   "metadata": {},
   "outputs": [],
   "source": [
    "class DecisionNode(object):\n",
    "    \"\"\"\n",
    "    This class will hold everything you require to construct a decision tree.\n",
    "    The structure of this class is up to you. However, you need to support basic \n",
    "    functionality as described above. It is highly recommended that you \n",
    "    first read and understand the entire exercise before diving into this class.\n",
    "    \"\"\"\n",
    "    def __init__(self, data, feature, common_value):\n",
    "        self.feature = feature            # column index of criteria by wich we will split\n",
    "        if (feature==None):\n",
    "            self.values = None\n",
    "            self.leaf = True\n",
    "        else:\n",
    "            self.values = np.unique(data[:,feature]) #list of unique values of chosen feature\n",
    "            self.leaf = False\n",
    "        self.children = []                # list of all the children nodes\n",
    "        self.common_value = common_value  # the value by which the node was splited from the parent node\n",
    "        self.data = data \n",
    "        \n",
    "    def add_child(self, node):\n",
    "        self.children.append(node)  \n",
    "    def pred (self):                      # calculating the major class in the data, and gives a prediction\n",
    "        e = (self.data[:,-1] == \"e\").sum()\n",
    "        p = (self.data[:,-1] == \"p\").sum()\n",
    "        if(e>p):\n",
    "            return \"e\"\n",
    "        else:\n",
    "            return \"p\""
   ]
  },
  {
   "cell_type": "code",
   "execution_count": 14,
   "metadata": {},
   "outputs": [],
   "source": [
    "def build_tree(data, impurity, value=None, gain_ratio=False, min_samples_split=1, max_depth=1000):\n",
    "    \"\"\"\n",
    "    Build a tree using the given impurity measure and training dataset. \n",
    "    You are required to fully grow the tree until all leaves are pure. \n",
    "    Input:\n",
    "    - data: the training dataset.\n",
    "    - impurity: the chosen impurity measure. Notice that you can send a function\n",
    "                as an argument in python.\n",
    "    - gain_ratio: goodness of split or gain ratio flag\n",
    "    - min_samples_split: the minimum number of samples required to split an internal node\n",
    "    - max_depth: the allowable depth of the tree\n",
    "    Output: the root node of the tree.\n",
    "    \"\"\"\n",
    "    root = None\n",
    "    def best_feature (data,gain_ratio=False):  #finds best feature by wich to split, note feature is a column index\n",
    "        feature_split = None\n",
    "        current_goodness = 0\n",
    "        best_goodness = np.NINF\n",
    "        for i in range(len(data[0,:-1])):\n",
    "            current_goodness = goodness_of_split(data, i, impurity, gain_ratio)\n",
    "            if (current_goodness > best_goodness and len(np.unique(data[:,i]))>1 ):\n",
    "                feature_split = i\n",
    "                best_goodness = current_goodness\n",
    "            elif (current_goodness==0):\n",
    "                continue\n",
    "        return feature_split\n",
    "    \n",
    "    if (max_depth>0 and len(data)>min_samples_split and impurity(data)!=0):\n",
    "        feature_split = best_feature(data,gain_ratio)     # finding the best for splitting the data\n",
    "        root = DecisionNode(data, feature_split, value)   # creating a new node with the best feature\n",
    "        max_depth -= 1\n",
    "        if(feature_split!=None):\n",
    "            for v in root.values:                         #creating the children for the previous node:\n",
    "                S_v = data[(data[:,feature_split] == v)]  # S_v is the splited data according to the parent's feature\n",
    "                root.add_child(build_tree(S_v,impurity,v,gain_ratio,min_samples_split,max_depth))\n",
    "        return root\n",
    "    else:\n",
    "        root = DecisionNode(data, None, value)            # the root is a leaf\n",
    "        return root"
   ]
  },
  {
   "cell_type": "code",
   "execution_count": 15,
   "metadata": {},
   "outputs": [],
   "source": [
    "# python supports passing a function as an argument to another function.\n",
    "tree_gini = build_tree(data=X_train, impurity=calc_gini)                                   # gini and goodness of split\n",
    "tree_entropy = build_tree(data=X_train, impurity=calc_entropy)                             # entropy and goodness of split\n",
    "tree_entropy_gain_ratio = build_tree(data=X_train, impurity=calc_entropy, gain_ratio=True) # entropy and gain ratio"
   ]
  },
  {
   "cell_type": "markdown",
   "metadata": {},
   "source": [
    "## Tree evaluation\n",
    "\n",
    "Complete the functions `predict` and `calc_accuracy`."
   ]
  },
  {
   "cell_type": "code",
   "execution_count": 16,
   "metadata": {},
   "outputs": [],
   "source": [
    "def predict(node, instance):\n",
    "    \"\"\"\n",
    "    Predict a given instance using the decision tree\n",
    "    Input:\n",
    "    - root: the root of the decision tree.\n",
    "    - instance: an row vector from the dataset. Note that the last element \n",
    "                of this vector is the label of the instance.\n",
    "    Output: the prediction of the instance.\n",
    "    \"\"\"\n",
    "    pred = None\n",
    "    if (node.leaf):\n",
    "        return node.pred()\n",
    "    else:\n",
    "        for child in node.children:\n",
    "            if (child.common_value == instance[node.feature]):\n",
    "                return predict(child, instance)\n",
    "        return node.pred()\n",
    "                "
   ]
  },
  {
   "cell_type": "code",
   "execution_count": 17,
   "metadata": {},
   "outputs": [],
   "source": [
    "def calc_accuracy(node, dataset):\n",
    "    \"\"\"\n",
    "    Predict a given dataset using the decision tree\n",
    "    Input:\n",
    "    - node: a node in the decision tree.\n",
    "    - dataset: the dataset on which the accuracy is evaluated\n",
    "    Output: the accuracy of the decision tree on the given dataset (%).\n",
    "    \"\"\"\n",
    "    accuracy = 0\n",
    "    correct = 0 # number of successfull predictions\n",
    "    for i in range(dataset.shape[0]):\n",
    "        prediction = predict(node, dataset[i,:])\n",
    "        if (prediction == dataset[i,-1]):\n",
    "            correct += 1\n",
    "    return correct / dataset.shape[0] "
   ]
  },
  {
   "cell_type": "markdown",
   "metadata": {},
   "source": [
    "After building the three trees using the training set, you should calculate the accuracy on the test set. For each tree print the training and test accuracy. Select the tree that gave you the best test accuracy. For the rest of the exercise, use that tree (when you asked to build another tree use the same impurity function and same gain_ratio flag). "
   ]
  },
  {
   "cell_type": "code",
   "execution_count": 18,
   "metadata": {},
   "outputs": [
    {
     "name": "stdout",
     "output_type": "stream",
     "text": [
      "Gini tree accuracy \n",
      "Train: 1.0 ,Test: 0.7749876907927129\n",
      "----------------------------------\n",
      "Entropy tree accuracy \n",
      "Train: 1.0 ,Test: 0.7804037419990153\n",
      "----------------------------------\n",
      "Entropy gain ratio tree accuracy \n",
      "Train: 1.0 ,Test: 0.7902511078286558\n"
     ]
    }
   ],
   "source": [
    "print(\"Gini tree accuracy \\nTrain: {} ,Test: {}\".format(calc_accuracy(tree_gini,X_train),calc_accuracy(tree_gini,X_test)))\n",
    "print(\"----------------------------------\")\n",
    "print(\"Entropy tree accuracy \\nTrain: {} ,Test: {}\".format(calc_accuracy(tree_entropy,X_train),calc_accuracy(tree_entropy,X_test)))\n",
    "print(\"----------------------------------\")\n",
    "print(\"Entropy gain ratio tree accuracy \\nTrain: {} ,Test: {}\".format(calc_accuracy(tree_entropy_gain_ratio,X_train),calc_accuracy(tree_entropy_gain_ratio,X_test)))"
   ]
  },
  {
   "cell_type": "markdown",
   "metadata": {},
   "source": [
    "## Depth pruning\n",
    "\n",
    "\n",
    "Consider the following max_depth values: [1, 2, 3, 4, 5, 6, 7, 8]. For each value, construct a tree and prune it according to the max_depth value = don't let the tree to grow beyond this depth. Next, calculate the training and testing accuracy.<br>\n",
    "On a single plot, draw the training and testing accuracy as a function of the max_depth. Mark the best result on the graph with red circle."
   ]
  },
  {
   "cell_type": "code",
   "execution_count": 19,
   "metadata": {},
   "outputs": [],
   "source": [
    "depth_trees = []\n",
    "train_accuracy = []\n",
    "test_accuracy = []\n",
    "for i in range(1,9):\n",
    "    depth_trees.append(build_tree(data=X_train, impurity=calc_entropy,gain_ratio=True, max_depth=i))\n",
    "    train_accuracy.append(calc_accuracy(depth_trees[i-1],X_train))\n",
    "    test_accuracy.append(calc_accuracy(depth_trees[i-1],X_test))"
   ]
  },
  {
   "cell_type": "code",
   "execution_count": 20,
   "metadata": {
    "scrolled": false
   },
   "outputs": [
    {
     "data": {
      "image/png": "[encoded data removed]",
      "text/plain": [
       "<Figure size 720x576 with 1 Axes>"
      ]
     },
     "metadata": {
      "needs_background": "light"
     },
     "output_type": "display_data"
    }
   ],
   "source": [
    "max_acc = test_accuracy.index(max(test_accuracy)) + 1\n",
    "plt.plot(np.arange(8)+1, train_accuracy,label=\"Train\")\n",
    "plt.plot(np.arange(8)+1, test_accuracy,label=\"Test\")    \n",
    "plt.xlabel('Max tree depth')\n",
    "plt.ylabel('Accuracy')\n",
    "plt.title('Tree pruning by max depth')\n",
    "plt.legend(fontsize=\"16\")\n",
    "plt.plot(max_acc, (train_accuracy[max_acc-1] + test_accuracy[max_acc-1]) / 2, 'o',ms=60, mec='red', mfc='none', mew=2)\n",
    "plt.annotate('Best depth =' + str(max_acc), xy=(max_acc,(train_accuracy[max_acc-1] + test_accuracy[max_acc-1]) / 2), xytext=(60, 60),\n",
    "   textcoords='offset points',\n",
    "   color='black', size='large',\n",
    "   arrowprops=dict(\n",
    "      arrowstyle='simple,tail_width=0.3,head_width=0.8,head_length=0.8',\n",
    "      facecolor='black', shrinkB=30))\n",
    "plt.show()"
   ]
  },
  {
   "cell_type": "markdown",
   "metadata": {},
   "source": [
    "## Min Samples Split\n",
    "\n",
    "\n",
    "Consider the following min_samples_split values: [1, 5, 10, 20, 50]. For each value, construct a tree and prune it according to the min_samples_split value = don't split a node if the number of sample in it is less or equal to the min_samples_split value. Next, calculate the training and testing accuracy.<br>\n",
    "On a single plot, draw the training and testing accuracy as a function of the min_samples_split. Mark the best result on the graph with red circle. (make sure that the x-axis ticks represent the values of min_samples_split)"
   ]
  },
  {
   "cell_type": "code",
   "execution_count": 21,
   "metadata": {},
   "outputs": [],
   "source": [
    "min_sample_trees = []\n",
    "min_samples_split = [1,5,10,20,50]\n",
    "train_accuracy = []\n",
    "test_accuracy = []\n",
    "indx=0\n",
    "for i in min_samples_split:\n",
    "    min_sample_trees.append(build_tree(data=X_train, impurity=calc_entropy, gain_ratio=True, min_samples_split=i))\n",
    "    train_accuracy.append(calc_accuracy(min_sample_trees[indx],X_train))\n",
    "    test_accuracy.append(calc_accuracy(min_sample_trees[indx],X_test))\n",
    "    indx+=1"
   ]
  },
  {
   "cell_type": "code",
   "execution_count": 22,
   "metadata": {},
   "outputs": [
    {
     "data": {
      "image/png": "[encoded data removed]",
      "text/plain": [
       "<Figure size 720x576 with 1 Axes>"
      ]
     },
     "metadata": {
      "needs_background": "light"
     },
     "output_type": "display_data"
    }
   ],
   "source": [
    "max_acc = test_accuracy.index(max(test_accuracy))\n",
    "\n",
    "plt.ylim([0.7, 1.05])\n",
    "plt.plot(min_samples_split, train_accuracy,label=\"Train\")\n",
    "plt.plot(min_samples_split, test_accuracy,label=\"Test\")    \n",
    "plt.xlabel('Min samples split')\n",
    "plt.ylabel('Accuracy')\n",
    "plt.title('Tree pruning by sample split')\n",
    "plt.legend(fontsize=\"16\")\n",
    "plt.plot(min_samples_split[max_acc], (train_accuracy[max_acc] + test_accuracy[max_acc]) / 2, 'o',ms=60, mec='red', mfc='none', mew=2)\n",
    "plt.annotate('Best min sample split = 50',(min_samples_split[max_acc], (train_accuracy[max_acc] + test_accuracy[max_acc]) / 2), xytext=(35,0.95),\n",
    "   color='black', size='large',\n",
    "   arrowprops=dict(\n",
    "      arrowstyle='simple,tail_width=0.3,head_width=0.8,head_length=0.8',\n",
    "      facecolor='black', shrinkB=30))\n",
    "plt.show()"
   ]
  },
  {
   "cell_type": "markdown",
   "metadata": {},
   "source": [
    "Build the best 2 trees:\n",
    "1. tree_max_depth - the best tree according to max_depth pruning\n",
    "1. tree_min_samples_split - the best tree according to min_samples_split pruning"
   ]
  },
  {
   "cell_type": "code",
   "execution_count": 23,
   "metadata": {},
   "outputs": [],
   "source": [
    "tree_max_depth = build_tree(data=X_train, impurity=calc_entropy, gain_ratio=True, max_depth=4)\n",
    "tree_min_samples_split = build_tree(data=X_train, impurity=calc_entropy, gain_ratio=True, min_samples_split=50)"
   ]
  },
  {
   "cell_type": "markdown",
   "metadata": {},
   "source": [
    "## Number of Nodes\n",
    "\n",
    "\n",
    "Complete the function counts_nodes and print the number of nodes in each tree and print the number of nodes of the two trees above"
   ]
  },
  {
   "cell_type": "code",
   "execution_count": 24,
   "metadata": {},
   "outputs": [
    {
     "name": "stdout",
     "output_type": "stream",
     "text": [
      "Number of nodes in max depth tree : 205\n",
      "Number of nodes in min samples split tree: 349\n"
     ]
    }
   ],
   "source": [
    "def count_nodes(node):\n",
    "    \"\"\"\n",
    "    Count the number of node in a given tree\n",
    "    Input:\n",
    "    - node: a node in the decision tree.\n",
    "    Output: the number of node in the tree.\n",
    "    \"\"\"\n",
    "    if (node.leaf):\n",
    "        return 1\n",
    "    else:\n",
    "        sum_children = 0\n",
    "        for child in node.children:\n",
    "            sum_children += count_nodes(child)\n",
    "        return sum_children + 1\n",
    "print(\"Number of nodes in max depth tree : {}\".format(count_nodes(tree_max_depth)))\n",
    "print(\"Number of nodes in min samples split tree: {}\".format(count_nodes(tree_min_samples_split)))"
   ]
  },
  {
   "cell_type": "markdown",
   "metadata": {},
   "source": [
    "## Print the tree\n",
    "\n",
    "Complete the function `print_tree`. Your tree should be visualized clearly. You can use the following example as a reference:\n",
    "```\n",
    "[ROOT, feature=X0],\n",
    "  [X0=a, feature=X2]\n",
    "    [X2=c, leaf]: [{1.0: 10}]\n",
    "    [X2=d, leaf]: [{0.0: 10}]\n",
    "  [X0=y, feature=X5], \n",
    "    [X5=a, leaf]: [{1.0: 5}]\n",
    "    [X5=s, leaf]: [{0.0: 10}]\n",
    "  [X0=e, leaf]: [{0.0: 25, 1.0: 50}]\n",
    "```\n",
    "In each brackets:\n",
    "* The first argument is the parent feature with the value that led to current node\n",
    "* The second argument is the selected feature of the current node\n",
    "* If the current node is a leaf, you need to print also the labels and their counts"
   ]
  },
  {
   "cell_type": "code",
   "execution_count": 25,
   "metadata": {},
   "outputs": [],
   "source": [
    "def print_tree(node, depth=0,  is_root = True, parent_feature='ROOT', feature_val='ROOT'):\n",
    "    '''\n",
    "    prints the tree according to the example above\n",
    "    Input:\n",
    "    - node: a node in the decision tree\n",
    "    - is_root: a flag that signify whether the node is the root of the tree or not\n",
    "\n",
    "    This function has no return value\n",
    "    '''\n",
    "    def count_lables(node):  # A function, which returns a dictionary of the number of edibles and poisonous instances in the node's data\n",
    "        count_dict = {'e': 0, 'p': 0}\n",
    "        edible = (node.data[:,-1] == \"e\").sum()\n",
    "        poisonous = (node.data[:,-1] == \"p\").sum()\n",
    "        count_dict['e'] = edible\n",
    "        count_dict['p'] = poisonous\n",
    "        return count_dict\n",
    "    \n",
    "    def print_leaf(node, parent_feature): # a function, which prints a leaf according to the desired format\n",
    "        print(\"  \" * depth + \"[X\" + str(parent_feature) + \"=\" + str(node.common_value) + \", Leaf]: \" + str(count_lables(node)) + \"]\")\n",
    "        return\n",
    "    \n",
    "    def print_node(node, parent_feature): # a function, which prints a node according to the desired format\n",
    "        print(\"  \" * depth + \"[X\" + str(parent_feature) + \"=\" + str(node.common_value) + \", feature= X\" + str(node.feature) + \"]\")\n",
    "        return\n",
    "              \n",
    "    def print_root(node): # a function, which prints a root according to the desired format\n",
    "        print(\"  \" * depth + \"[Root, feature= X\" + str(node.feature) + \"])\")\n",
    "        return\n",
    "\n",
    "    if is_root:\n",
    "        print_root(node)\n",
    "        is_root = False #there is only one root in a tree, thus all the next recursive calls will not consider thier nodes as root\n",
    "        depth += 1 #\n",
    "        for child in range(len(node.children)):\n",
    "              print_tree(node.children[child], depth, is_root, parent_feature=node.feature)\n",
    "    \n",
    "    elif (node.leaf):\n",
    "        print_leaf(node,parent_feature)\n",
    "    \n",
    "    else:\n",
    "        print_node(node, parent_feature)\n",
    "        depth += 1\n",
    "        for child in range(len(node.children)):\n",
    "              print_tree(node.children[child], depth, is_root, parent_feature=node.feature)\n",
    "        "
   ]
  },
  {
   "cell_type": "markdown",
   "metadata": {},
   "source": [
    "print the tree with the best test accuracy and with less than 50 nodes (from the two pruning methods)"
   ]
  },
  {
   "cell_type": "code",
   "execution_count": 26,
   "metadata": {},
   "outputs": [
    {
     "name": "stdout",
     "output_type": "stream",
     "text": [
      "Tree with depth 1 and less than 50 nodes, has accuracy of: 0.8852781880846874\n",
      "Tree with depth 2 and less than 50 nodes, has accuracy of: 0.8931560807483998\n",
      "Tree with minimum sample spllit of 450 and less than 50 nodes, has accuracy of: 0.8946331856228459\n",
      "Tree with minimum sample spllit of 500 and less than 50 nodes, has accuracy of: 0.8931560807483998\n",
      "Tree with minimum sample spllit of 550 and less than 50 nodes, has accuracy of: 0.8931560807483998\n"
     ]
    }
   ],
   "source": [
    "depths_testing = [1, 2, 3, 4]                   # depths higher yeild more than 50 nodes hence this is the relevant range to check\n",
    "min_samples_testing = [350, 400, 450, 500, 550] # This was also found to be the relevant range to check\n",
    "\n",
    "for depth in depths_testing:\n",
    "    tree_limited_depth = build_tree(X_train, calc_gini, gain_ratio=False, min_samples_split=1, max_depth = depth)\n",
    "    if count_nodes(tree_limited_depth) < 50:\n",
    "        acc = calc_accuracy(tree_limited_depth, X_test)\n",
    "        print(\"Tree with depth \" + str(depth) + \" and less than 50 nodes, has accuracy of: \" + str(acc))\n",
    "\n",
    "for samples in min_samples_testing:\n",
    "    tree_limited_samples = build_tree(X_train, calc_gini, gain_ratio=False, min_samples_split=samples, max_depth = 1000)\n",
    "    if count_nodes(tree_limited_samples) < 50:\n",
    "        acc = calc_accuracy(tree_limited_samples, X_test)\n",
    "        print(\"Tree with minimum sample spllit of \" + str(samples) + \" and less than 50 nodes, has accuracy of: \" + str(acc))"
   ]
  },
  {
   "cell_type": "code",
   "execution_count": 27,
   "metadata": {},
   "outputs": [
    {
     "name": "stdout",
     "output_type": "stream",
     "text": [
      "Tree with depth 1 and less than 50 nodes, has accuracy of: 0.8852781880846874\n",
      "Tree with depth 2 and less than 50 nodes, has accuracy of: 0.8931560807483998\n"
     ]
    }
   ],
   "source": [
    "depths_testing = [1, 2, 3, 4, 6, 7]   #depths higher yeild more than 50 nodes hence this is the relevant range to check\n",
    "min_samples_testing = [1,5,10,20,50]  #This was also found to be the relevant range to check\n",
    "\n",
    "for depth in depths_testing:\n",
    "    tree_limited_depth = build_tree(X_train, calc_gini, gain_ratio=False, min_samples_split=1, max_depth = depth)\n",
    "    if count_nodes(tree_limited_depth) < 50:\n",
    "        acc = calc_accuracy(tree_limited_depth, X_test)\n",
    "        print(\"Tree with depth \" + str(depth) + \" and less than 50 nodes, has accuracy of: \" + str(acc))\n",
    "\n",
    "for samples in min_samples_testing:\n",
    "    tree_limited_samples = build_tree(X_train, calc_gini, gain_ratio=False, min_samples_split=samples, max_depth = 1000)\n",
    "    if count_nodes(tree_limited_samples) < 50:\n",
    "        acc = calc_accuracy(tree_limited_samples, X_test)\n",
    "        print(\"Tree with minimum sample spllit of \" + str(samples) + \" and less than 50 nodes, has accuracy of: \" + str(acc))"
   ]
  },
  {
   "cell_type": "markdown",
   "metadata": {},
   "source": [
    "*We found that the tree with the best accuracy and with less than 50 nodes is :* **Tree pruned with Max depth 2.**"
   ]
  },
  {
   "cell_type": "code",
   "execution_count": 28,
   "metadata": {},
   "outputs": [
    {
     "name": "stdout",
     "output_type": "stream",
     "text": [
      "[Root, feature= X4])\n",
      "  [X4=a, feature= X2]\n",
      "    [X2=n, Leaf]: {'e': 33, 'p': 5}]\n",
      "    [X2=w, Leaf]: {'e': 107, 'p': 7}]\n",
      "    [X2=y, Leaf]: {'e': 133, 'p': 19}]\n",
      "  [X4=c, feature= X6]\n",
      "    [X6=c, Leaf]: {'e': 7, 'p': 63}]\n",
      "    [X6=w, Leaf]: {'e': 3, 'p': 74}]\n",
      "  [X4=f, feature= X10]\n",
      "    [X10=f, Leaf]: {'e': 14, 'p': 91}]\n",
      "    [X10=k, Leaf]: {'e': 134, 'p': 1037}]\n",
      "    [X10=s, Leaf]: {'e': 22, 'p': 310}]\n",
      "  [X4=l, feature= X1]\n",
      "    [X1=f, Leaf]: {'e': 19, 'p': 1}]\n",
      "    [X1=s, Leaf]: {'e': 94, 'p': 16}]\n",
      "    [X1=y, Leaf]: {'e': 159, 'p': 10}]\n",
      "  [X4=m, feature= X0]\n",
      "    [X0=f, Leaf]: {'e': 1, 'p': 8}]\n",
      "    [X0=k, Leaf]: {'e': 1, 'p': 10}]\n",
      "    [X0=x, Leaf]: {'e': 0, 'p': 7}]\n",
      "  [X4=n, feature= X7]\n",
      "    [X7=b, Leaf]: {'e': 2197, 'p': 286}]\n",
      "    [X7=n, Leaf]: {'e': 135, 'p': 58}]\n",
      "  [X4=p, feature= X0]\n",
      "    [X0=f, Leaf]: {'e': 7, 'p': 86}]\n",
      "    [X0=x, Leaf]: {'e': 1, 'p': 89}]\n",
      "  [X4=s, feature= X13]\n",
      "    [X13=p, Leaf]: {'e': 12, 'p': 190}]\n",
      "    [X13=w, Leaf]: {'e': 26, 'p': 190}]\n",
      "  [X4=y, feature= X1]\n",
      "    [X1=s, Leaf]: {'e': 18, 'p': 194}]\n",
      "    [X1=y, Leaf]: {'e': 31, 'p': 188}]\n"
     ]
    }
   ],
   "source": [
    "best_tree = build_tree(X_train, calc_entropy, gain_ratio=True, max_depth = 2)\n",
    "print_tree(best_tree)"
   ]
  }
 ],
 "metadata": {
  "celltoolbar": "Create Assignment",
  "kernelspec": {
   "display_name": "Python 3",
   "language": "python",
   "name": "python3"
  },
  "language_info": {
   "codemirror_mode": {
    "name": "ipython",
    "version": 3
   },
   "file_extension": ".py",
   "mimetype": "text/x-python",
   "name": "python",
   "nbconvert_exporter": "python",
   "pygments_lexer": "ipython3",
   "version": "3.8.8"
  }
 },
 "nbformat": 4,
 "nbformat_minor": 4
}
